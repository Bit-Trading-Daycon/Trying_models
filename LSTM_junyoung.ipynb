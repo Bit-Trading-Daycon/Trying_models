{
  "nbformat": 4,
  "nbformat_minor": 0,
  "metadata": {
    "colab": {
      "name": "LSTM.ipynb",
      "provenance": [],
      "collapsed_sections": []
    },
    "kernelspec": {
      "name": "python3",
      "display_name": "Python 3"
    },
    "language_info": {
      "name": "python"
    },
    "accelerator": "GPU"
  },
  "cells": [
    {
      "cell_type": "code",
      "metadata": {
        "id": "cAUJWJzamlo0"
      },
      "source": [
        "#Library Imports\n",
        "import numpy as np\n",
        "import pandas as pd\n",
        "import math\n",
        "import os\n",
        "import matplotlib.pyplot as plt\n",
        "\n",
        "import torch\n",
        "import torch.nn as nn\n",
        "import torch.optim as optim\n",
        "from torch.utils.data import DataLoader\n",
        "from torch.autograd import Variable \n",
        "\n"
      ],
      "execution_count": 2,
      "outputs": []
    },
    {
      "cell_type": "code",
      "metadata": {
        "id": "pKY02KzjxUVd",
        "colab": {
          "base_uri": "https://localhost:8080/"
        },
        "outputId": "eeaa6654-bf09-46f2-ba90-e3ccc9397be5"
      },
      "source": [
        "from google.colab import drive\n",
        "drive.mount('/content/drive')"
      ],
      "execution_count": 1,
      "outputs": [
        {
          "output_type": "stream",
          "text": [
            "Mounted at /content/drive\n"
          ],
          "name": "stdout"
        }
      ]
    },
    {
      "cell_type": "code",
      "metadata": {
        "colab": {
          "base_uri": "https://localhost:8080/"
        },
        "id": "1xanVhUJGPTL",
        "outputId": "5f7ce689-6816-47ce-c6bf-775306e8a525"
      },
      "source": [
        "# gpu 연산이 가능하면 'cuda:0', 아니면 'cpu' 출력\n",
        "\n",
        "device = torch.device(\"cuda:0\" if torch.cuda.is_available() else \"cpu\")\n",
        "\n",
        "print(device)"
      ],
      "execution_count": 3,
      "outputs": [
        {
          "output_type": "stream",
          "text": [
            "cpu\n"
          ],
          "name": "stdout"
        }
      ]
    },
    {
      "cell_type": "code",
      "metadata": {
        "id": "bV-tumq6yjMl"
      },
      "source": [
        "data_path = '/content/drive/MyDrive/비트트레이더/데이터'\n",
        "train_x_df = pd.read_csv(data_path  + \"/train_x_df.csv\")\n",
        "train_y_df = pd.read_csv(data_path  + \"/train_y_df.csv\")\n",
        "test_x_df = pd.read_csv(data_path  + \"/test_x_df.csv\")"
      ],
      "execution_count": 5,
      "outputs": []
    },
    {
      "cell_type": "markdown",
      "metadata": {
        "id": "FQM2US_qzds7"
      },
      "source": [
        "## Data preprocessing"
      ]
    },
    {
      "cell_type": "markdown",
      "metadata": {
        "id": "EgT9f7yw1McT"
      },
      "source": [
        "input : (seq_len, batch, input_size)"
      ]
    },
    {
      "cell_type": "code",
      "metadata": {
        "id": "qMmsR7aam2LH"
      },
      "source": [
        "col_name=list(train_x_df.columns)"
      ],
      "execution_count": 6,
      "outputs": []
    },
    {
      "cell_type": "code",
      "metadata": {
        "colab": {
          "base_uri": "https://localhost:8080/",
          "height": 419
        },
        "id": "q5cNnmkaB4WT",
        "outputId": "2a5365fd-1e42-4315-bd66-8595cf44be64"
      },
      "source": [
        "test_x_df.iloc[:, 3:]"
      ],
      "execution_count": 7,
      "outputs": [
        {
          "output_type": "execute_result",
          "data": {
            "text/html": [
              "<div>\n",
              "<style scoped>\n",
              "    .dataframe tbody tr th:only-of-type {\n",
              "        vertical-align: middle;\n",
              "    }\n",
              "\n",
              "    .dataframe tbody tr th {\n",
              "        vertical-align: top;\n",
              "    }\n",
              "\n",
              "    .dataframe thead th {\n",
              "        text-align: right;\n",
              "    }\n",
              "</style>\n",
              "<table border=\"1\" class=\"dataframe\">\n",
              "  <thead>\n",
              "    <tr style=\"text-align: right;\">\n",
              "      <th></th>\n",
              "      <th>open</th>\n",
              "      <th>high</th>\n",
              "      <th>low</th>\n",
              "      <th>close</th>\n",
              "      <th>volume</th>\n",
              "      <th>quote_av</th>\n",
              "      <th>trades</th>\n",
              "      <th>tb_base_av</th>\n",
              "      <th>tb_quote_av</th>\n",
              "    </tr>\n",
              "  </thead>\n",
              "  <tbody>\n",
              "    <tr>\n",
              "      <th>0</th>\n",
              "      <td>1.003541</td>\n",
              "      <td>1.007110</td>\n",
              "      <td>1.003541</td>\n",
              "      <td>1.006090</td>\n",
              "      <td>486928.968750</td>\n",
              "      <td>182543.687500</td>\n",
              "      <td>332.671570</td>\n",
              "      <td>287449.968750</td>\n",
              "      <td>107758.375000</td>\n",
              "    </tr>\n",
              "    <tr>\n",
              "      <th>1</th>\n",
              "      <td>1.006117</td>\n",
              "      <td>1.006331</td>\n",
              "      <td>1.004829</td>\n",
              "      <td>1.005634</td>\n",
              "      <td>824485.375000</td>\n",
              "      <td>309019.750000</td>\n",
              "      <td>407.790955</td>\n",
              "      <td>560290.250000</td>\n",
              "      <td>210005.125000</td>\n",
              "    </tr>\n",
              "    <tr>\n",
              "      <th>2</th>\n",
              "      <td>1.005929</td>\n",
              "      <td>1.005983</td>\n",
              "      <td>1.004266</td>\n",
              "      <td>1.005366</td>\n",
              "      <td>478614.562500</td>\n",
              "      <td>179301.843750</td>\n",
              "      <td>276.332031</td>\n",
              "      <td>214270.265625</td>\n",
              "      <td>80283.554688</td>\n",
              "    </tr>\n",
              "    <tr>\n",
              "      <th>3</th>\n",
              "      <td>1.005044</td>\n",
              "      <td>1.005956</td>\n",
              "      <td>1.004910</td>\n",
              "      <td>1.005795</td>\n",
              "      <td>334366.843750</td>\n",
              "      <td>125305.117188</td>\n",
              "      <td>166.335785</td>\n",
              "      <td>56401.246094</td>\n",
              "      <td>21135.490234</td>\n",
              "    </tr>\n",
              "    <tr>\n",
              "      <th>4</th>\n",
              "      <td>1.005580</td>\n",
              "      <td>1.006466</td>\n",
              "      <td>1.005285</td>\n",
              "      <td>1.005929</td>\n",
              "      <td>560916.687500</td>\n",
              "      <td>210316.796875</td>\n",
              "      <td>303.160370</td>\n",
              "      <td>138711.703125</td>\n",
              "      <td>52010.964844</td>\n",
              "    </tr>\n",
              "    <tr>\n",
              "      <th>...</th>\n",
              "      <td>...</td>\n",
              "      <td>...</td>\n",
              "      <td>...</td>\n",
              "      <td>...</td>\n",
              "      <td>...</td>\n",
              "      <td>...</td>\n",
              "      <td>...</td>\n",
              "      <td>...</td>\n",
              "      <td>...</td>\n",
              "    </tr>\n",
              "    <tr>\n",
              "      <th>730015</th>\n",
              "      <td>1.001805</td>\n",
              "      <td>1.001805</td>\n",
              "      <td>0.998797</td>\n",
              "      <td>0.998797</td>\n",
              "      <td>583600.875000</td>\n",
              "      <td>77517.406250</td>\n",
              "      <td>473.898010</td>\n",
              "      <td>9092.824219</td>\n",
              "      <td>1210.823120</td>\n",
              "    </tr>\n",
              "    <tr>\n",
              "      <th>730016</th>\n",
              "      <td>0.998571</td>\n",
              "      <td>1.001730</td>\n",
              "      <td>0.996690</td>\n",
              "      <td>1.001730</td>\n",
              "      <td>688827.312500</td>\n",
              "      <td>91420.523438</td>\n",
              "      <td>503.986786</td>\n",
              "      <td>289617.906250</td>\n",
              "      <td>38465.292969</td>\n",
              "    </tr>\n",
              "    <tr>\n",
              "      <th>730017</th>\n",
              "      <td>0.999323</td>\n",
              "      <td>1.003009</td>\n",
              "      <td>0.997367</td>\n",
              "      <td>1.002934</td>\n",
              "      <td>417688.437500</td>\n",
              "      <td>55624.304688</td>\n",
              "      <td>353.542969</td>\n",
              "      <td>291073.437500</td>\n",
              "      <td>38773.152344</td>\n",
              "    </tr>\n",
              "    <tr>\n",
              "      <th>730018</th>\n",
              "      <td>1.000903</td>\n",
              "      <td>1.000903</td>\n",
              "      <td>0.999774</td>\n",
              "      <td>0.999925</td>\n",
              "      <td>91273.515625</td>\n",
              "      <td>12139.500000</td>\n",
              "      <td>120.355049</td>\n",
              "      <td>0.000000</td>\n",
              "      <td>0.000000</td>\n",
              "    </tr>\n",
              "    <tr>\n",
              "      <th>730019</th>\n",
              "      <td>1.000000</td>\n",
              "      <td>1.000301</td>\n",
              "      <td>0.996766</td>\n",
              "      <td>0.999624</td>\n",
              "      <td>590133.937500</td>\n",
              "      <td>78354.085938</td>\n",
              "      <td>519.031189</td>\n",
              "      <td>289524.593750</td>\n",
              "      <td>38448.734375</td>\n",
              "    </tr>\n",
              "  </tbody>\n",
              "</table>\n",
              "<p>730020 rows × 9 columns</p>\n",
              "</div>"
            ],
            "text/plain": [
              "            open      high       low  ...      trades     tb_base_av    tb_quote_av\n",
              "0       1.003541  1.007110  1.003541  ...  332.671570  287449.968750  107758.375000\n",
              "1       1.006117  1.006331  1.004829  ...  407.790955  560290.250000  210005.125000\n",
              "2       1.005929  1.005983  1.004266  ...  276.332031  214270.265625   80283.554688\n",
              "3       1.005044  1.005956  1.004910  ...  166.335785   56401.246094   21135.490234\n",
              "4       1.005580  1.006466  1.005285  ...  303.160370  138711.703125   52010.964844\n",
              "...          ...       ...       ...  ...         ...            ...            ...\n",
              "730015  1.001805  1.001805  0.998797  ...  473.898010    9092.824219    1210.823120\n",
              "730016  0.998571  1.001730  0.996690  ...  503.986786  289617.906250   38465.292969\n",
              "730017  0.999323  1.003009  0.997367  ...  353.542969  291073.437500   38773.152344\n",
              "730018  1.000903  1.000903  0.999774  ...  120.355049       0.000000       0.000000\n",
              "730019  1.000000  1.000301  0.996766  ...  519.031189  289524.593750   38448.734375\n",
              "\n",
              "[730020 rows x 9 columns]"
            ]
          },
          "metadata": {
            "tags": []
          },
          "execution_count": 7
        }
      ]
    },
    {
      "cell_type": "code",
      "metadata": {
        "colab": {
          "base_uri": "https://localhost:8080/",
          "height": 419
        },
        "id": "riQoEwkOVWeS",
        "outputId": "f14ee166-03b0-44ba-f99b-52741cb7eae2"
      },
      "source": [
        "test_x_df[test_x_df['sample_id']==0]"
      ],
      "execution_count": 272,
      "outputs": [
        {
          "output_type": "execute_result",
          "data": {
            "text/html": [
              "<div>\n",
              "<style scoped>\n",
              "    .dataframe tbody tr th:only-of-type {\n",
              "        vertical-align: middle;\n",
              "    }\n",
              "\n",
              "    .dataframe tbody tr th {\n",
              "        vertical-align: top;\n",
              "    }\n",
              "\n",
              "    .dataframe thead th {\n",
              "        text-align: right;\n",
              "    }\n",
              "</style>\n",
              "<table border=\"1\" class=\"dataframe\">\n",
              "  <thead>\n",
              "    <tr style=\"text-align: right;\">\n",
              "      <th></th>\n",
              "      <th>sample_id</th>\n",
              "      <th>time</th>\n",
              "      <th>coin_index</th>\n",
              "      <th>open</th>\n",
              "      <th>high</th>\n",
              "      <th>low</th>\n",
              "      <th>close</th>\n",
              "      <th>volume</th>\n",
              "      <th>quote_av</th>\n",
              "      <th>trades</th>\n",
              "      <th>tb_base_av</th>\n",
              "      <th>tb_quote_av</th>\n",
              "    </tr>\n",
              "  </thead>\n",
              "  <tbody>\n",
              "    <tr>\n",
              "      <th>0</th>\n",
              "      <td>0</td>\n",
              "      <td>0</td>\n",
              "      <td>7</td>\n",
              "      <td>1.003541</td>\n",
              "      <td>1.007110</td>\n",
              "      <td>1.003541</td>\n",
              "      <td>1.006090</td>\n",
              "      <td>486928.96875</td>\n",
              "      <td>182543.687500</td>\n",
              "      <td>332.671570</td>\n",
              "      <td>287449.968750</td>\n",
              "      <td>107758.375000</td>\n",
              "    </tr>\n",
              "    <tr>\n",
              "      <th>1</th>\n",
              "      <td>0</td>\n",
              "      <td>1</td>\n",
              "      <td>7</td>\n",
              "      <td>1.006117</td>\n",
              "      <td>1.006331</td>\n",
              "      <td>1.004829</td>\n",
              "      <td>1.005634</td>\n",
              "      <td>824485.37500</td>\n",
              "      <td>309019.750000</td>\n",
              "      <td>407.790955</td>\n",
              "      <td>560290.250000</td>\n",
              "      <td>210005.125000</td>\n",
              "    </tr>\n",
              "    <tr>\n",
              "      <th>2</th>\n",
              "      <td>0</td>\n",
              "      <td>2</td>\n",
              "      <td>7</td>\n",
              "      <td>1.005929</td>\n",
              "      <td>1.005983</td>\n",
              "      <td>1.004266</td>\n",
              "      <td>1.005366</td>\n",
              "      <td>478614.56250</td>\n",
              "      <td>179301.843750</td>\n",
              "      <td>276.332031</td>\n",
              "      <td>214270.265625</td>\n",
              "      <td>80283.554688</td>\n",
              "    </tr>\n",
              "    <tr>\n",
              "      <th>3</th>\n",
              "      <td>0</td>\n",
              "      <td>3</td>\n",
              "      <td>7</td>\n",
              "      <td>1.005044</td>\n",
              "      <td>1.005956</td>\n",
              "      <td>1.004910</td>\n",
              "      <td>1.005795</td>\n",
              "      <td>334366.84375</td>\n",
              "      <td>125305.117188</td>\n",
              "      <td>166.335785</td>\n",
              "      <td>56401.246094</td>\n",
              "      <td>21135.490234</td>\n",
              "    </tr>\n",
              "    <tr>\n",
              "      <th>4</th>\n",
              "      <td>0</td>\n",
              "      <td>4</td>\n",
              "      <td>7</td>\n",
              "      <td>1.005580</td>\n",
              "      <td>1.006466</td>\n",
              "      <td>1.005285</td>\n",
              "      <td>1.005929</td>\n",
              "      <td>560916.68750</td>\n",
              "      <td>210316.796875</td>\n",
              "      <td>303.160370</td>\n",
              "      <td>138711.703125</td>\n",
              "      <td>52010.964844</td>\n",
              "    </tr>\n",
              "    <tr>\n",
              "      <th>...</th>\n",
              "      <td>...</td>\n",
              "      <td>...</td>\n",
              "      <td>...</td>\n",
              "      <td>...</td>\n",
              "      <td>...</td>\n",
              "      <td>...</td>\n",
              "      <td>...</td>\n",
              "      <td>...</td>\n",
              "      <td>...</td>\n",
              "      <td>...</td>\n",
              "      <td>...</td>\n",
              "      <td>...</td>\n",
              "    </tr>\n",
              "    <tr>\n",
              "      <th>1375</th>\n",
              "      <td>0</td>\n",
              "      <td>1375</td>\n",
              "      <td>7</td>\n",
              "      <td>0.997398</td>\n",
              "      <td>0.999115</td>\n",
              "      <td>0.997371</td>\n",
              "      <td>0.998256</td>\n",
              "      <td>411115.00000</td>\n",
              "      <td>152972.437500</td>\n",
              "      <td>324.623047</td>\n",
              "      <td>221016.265625</td>\n",
              "      <td>82244.789062</td>\n",
              "    </tr>\n",
              "    <tr>\n",
              "      <th>1376</th>\n",
              "      <td>0</td>\n",
              "      <td>1376</td>\n",
              "      <td>7</td>\n",
              "      <td>0.998256</td>\n",
              "      <td>0.999624</td>\n",
              "      <td>0.998256</td>\n",
              "      <td>0.998873</td>\n",
              "      <td>656922.50000</td>\n",
              "      <td>244636.890625</td>\n",
              "      <td>448.033478</td>\n",
              "      <td>395109.750000</td>\n",
              "      <td>147137.734375</td>\n",
              "    </tr>\n",
              "    <tr>\n",
              "      <th>1377</th>\n",
              "      <td>0</td>\n",
              "      <td>1377</td>\n",
              "      <td>7</td>\n",
              "      <td>0.999168</td>\n",
              "      <td>0.999839</td>\n",
              "      <td>0.999168</td>\n",
              "      <td>0.999785</td>\n",
              "      <td>328069.96875</td>\n",
              "      <td>122220.281250</td>\n",
              "      <td>222.675323</td>\n",
              "      <td>215481.843750</td>\n",
              "      <td>80277.742188</td>\n",
              "    </tr>\n",
              "    <tr>\n",
              "      <th>1378</th>\n",
              "      <td>0</td>\n",
              "      <td>1378</td>\n",
              "      <td>7</td>\n",
              "      <td>0.999624</td>\n",
              "      <td>1.000510</td>\n",
              "      <td>0.999598</td>\n",
              "      <td>1.000000</td>\n",
              "      <td>301314.87500</td>\n",
              "      <td>112317.312500</td>\n",
              "      <td>321.940216</td>\n",
              "      <td>130979.765625</td>\n",
              "      <td>48832.816406</td>\n",
              "    </tr>\n",
              "    <tr>\n",
              "      <th>1379</th>\n",
              "      <td>0</td>\n",
              "      <td>1379</td>\n",
              "      <td>7</td>\n",
              "      <td>1.000000</td>\n",
              "      <td>1.000322</td>\n",
              "      <td>0.998900</td>\n",
              "      <td>1.000322</td>\n",
              "      <td>403639.25000</td>\n",
              "      <td>150405.312500</td>\n",
              "      <td>313.891724</td>\n",
              "      <td>215691.625000</td>\n",
              "      <td>80365.726562</td>\n",
              "    </tr>\n",
              "  </tbody>\n",
              "</table>\n",
              "<p>1380 rows × 12 columns</p>\n",
              "</div>"
            ],
            "text/plain": [
              "      sample_id  time  coin_index  ...      trades     tb_base_av    tb_quote_av\n",
              "0             0     0           7  ...  332.671570  287449.968750  107758.375000\n",
              "1             0     1           7  ...  407.790955  560290.250000  210005.125000\n",
              "2             0     2           7  ...  276.332031  214270.265625   80283.554688\n",
              "3             0     3           7  ...  166.335785   56401.246094   21135.490234\n",
              "4             0     4           7  ...  303.160370  138711.703125   52010.964844\n",
              "...         ...   ...         ...  ...         ...            ...            ...\n",
              "1375          0  1375           7  ...  324.623047  221016.265625   82244.789062\n",
              "1376          0  1376           7  ...  448.033478  395109.750000  147137.734375\n",
              "1377          0  1377           7  ...  222.675323  215481.843750   80277.742188\n",
              "1378          0  1378           7  ...  321.940216  130979.765625   48832.816406\n",
              "1379          0  1379           7  ...  313.891724  215691.625000   80365.726562\n",
              "\n",
              "[1380 rows x 12 columns]"
            ]
          },
          "metadata": {
            "tags": []
          },
          "execution_count": 272
        }
      ]
    },
    {
      "cell_type": "code",
      "metadata": {
        "colab": {
          "base_uri": "https://localhost:8080/",
          "height": 439
        },
        "id": "5dw0hqaMYgyc",
        "outputId": "ea68a18a-7b64-426a-f108-0c0d4b36b637"
      },
      "source": [
        "train_y_df[train_y_df['sample_id']==0]"
      ],
      "execution_count": 270,
      "outputs": [
        {
          "output_type": "execute_result",
          "data": {
            "text/html": [
              "<div>\n",
              "<style scoped>\n",
              "    .dataframe tbody tr th:only-of-type {\n",
              "        vertical-align: middle;\n",
              "    }\n",
              "\n",
              "    .dataframe tbody tr th {\n",
              "        vertical-align: top;\n",
              "    }\n",
              "\n",
              "    .dataframe thead th {\n",
              "        text-align: right;\n",
              "    }\n",
              "</style>\n",
              "<table border=\"1\" class=\"dataframe\">\n",
              "  <thead>\n",
              "    <tr style=\"text-align: right;\">\n",
              "      <th></th>\n",
              "      <th>sample_id</th>\n",
              "      <th>time</th>\n",
              "      <th>coin_index</th>\n",
              "      <th>open</th>\n",
              "      <th>high</th>\n",
              "      <th>low</th>\n",
              "      <th>close</th>\n",
              "      <th>volume</th>\n",
              "      <th>quote_av</th>\n",
              "      <th>trades</th>\n",
              "      <th>tb_base_av</th>\n",
              "      <th>tb_quote_av</th>\n",
              "    </tr>\n",
              "  </thead>\n",
              "  <tbody>\n",
              "    <tr>\n",
              "      <th>0</th>\n",
              "      <td>0</td>\n",
              "      <td>0</td>\n",
              "      <td>7</td>\n",
              "      <td>1.000392</td>\n",
              "      <td>1.000588</td>\n",
              "      <td>1.000392</td>\n",
              "      <td>1.000588</td>\n",
              "      <td>8.305119e+05</td>\n",
              "      <td>42356.179688</td>\n",
              "      <td>137.308746</td>\n",
              "      <td>8.305119e+05</td>\n",
              "      <td>42356.179688</td>\n",
              "    </tr>\n",
              "    <tr>\n",
              "      <th>1</th>\n",
              "      <td>0</td>\n",
              "      <td>1</td>\n",
              "      <td>7</td>\n",
              "      <td>1.000588</td>\n",
              "      <td>1.001177</td>\n",
              "      <td>1.000392</td>\n",
              "      <td>1.001177</td>\n",
              "      <td>5.320066e+05</td>\n",
              "      <td>27140.638672</td>\n",
              "      <td>294.233032</td>\n",
              "      <td>4.882738e+05</td>\n",
              "      <td>24909.861328</td>\n",
              "    </tr>\n",
              "    <tr>\n",
              "      <th>2</th>\n",
              "      <td>0</td>\n",
              "      <td>2</td>\n",
              "      <td>7</td>\n",
              "      <td>1.001177</td>\n",
              "      <td>1.001177</td>\n",
              "      <td>1.001177</td>\n",
              "      <td>1.001177</td>\n",
              "      <td>5.113770e+05</td>\n",
              "      <td>26100.681641</td>\n",
              "      <td>58.846603</td>\n",
              "      <td>5.113770e+05</td>\n",
              "      <td>26100.681641</td>\n",
              "    </tr>\n",
              "    <tr>\n",
              "      <th>3</th>\n",
              "      <td>0</td>\n",
              "      <td>3</td>\n",
              "      <td>7</td>\n",
              "      <td>1.001177</td>\n",
              "      <td>1.001373</td>\n",
              "      <td>1.001177</td>\n",
              "      <td>1.001373</td>\n",
              "      <td>1.134853e+06</td>\n",
              "      <td>57929.410156</td>\n",
              "      <td>137.308746</td>\n",
              "      <td>1.095514e+06</td>\n",
              "      <td>55921.156250</td>\n",
              "    </tr>\n",
              "    <tr>\n",
              "      <th>4</th>\n",
              "      <td>0</td>\n",
              "      <td>4</td>\n",
              "      <td>7</td>\n",
              "      <td>1.000981</td>\n",
              "      <td>1.000981</td>\n",
              "      <td>0.999804</td>\n",
              "      <td>1.000196</td>\n",
              "      <td>5.801173e+06</td>\n",
              "      <td>295872.343750</td>\n",
              "      <td>666.928162</td>\n",
              "      <td>9.911239e+05</td>\n",
              "      <td>50528.589844</td>\n",
              "    </tr>\n",
              "    <tr>\n",
              "      <th>...</th>\n",
              "      <td>...</td>\n",
              "      <td>...</td>\n",
              "      <td>...</td>\n",
              "      <td>...</td>\n",
              "      <td>...</td>\n",
              "      <td>...</td>\n",
              "      <td>...</td>\n",
              "      <td>...</td>\n",
              "      <td>...</td>\n",
              "      <td>...</td>\n",
              "      <td>...</td>\n",
              "      <td>...</td>\n",
              "    </tr>\n",
              "    <tr>\n",
              "      <th>115</th>\n",
              "      <td>0</td>\n",
              "      <td>115</td>\n",
              "      <td>7</td>\n",
              "      <td>1.002354</td>\n",
              "      <td>1.002942</td>\n",
              "      <td>1.001569</td>\n",
              "      <td>1.001569</td>\n",
              "      <td>2.640449e+06</td>\n",
              "      <td>134901.953125</td>\n",
              "      <td>666.928162</td>\n",
              "      <td>2.410357e+05</td>\n",
              "      <td>12318.685547</td>\n",
              "    </tr>\n",
              "    <tr>\n",
              "      <th>116</th>\n",
              "      <td>0</td>\n",
              "      <td>116</td>\n",
              "      <td>7</td>\n",
              "      <td>1.001569</td>\n",
              "      <td>1.001569</td>\n",
              "      <td>1.000981</td>\n",
              "      <td>1.000981</td>\n",
              "      <td>9.847371e+05</td>\n",
              "      <td>50265.953125</td>\n",
              "      <td>137.308746</td>\n",
              "      <td>1.467634e+05</td>\n",
              "      <td>7493.740723</td>\n",
              "    </tr>\n",
              "    <tr>\n",
              "      <th>117</th>\n",
              "      <td>0</td>\n",
              "      <td>117</td>\n",
              "      <td>7</td>\n",
              "      <td>1.001373</td>\n",
              "      <td>1.001373</td>\n",
              "      <td>1.000785</td>\n",
              "      <td>1.000785</td>\n",
              "      <td>7.983522e+03</td>\n",
              "      <td>407.440552</td>\n",
              "      <td>39.231071</td>\n",
              "      <td>4.040800e+03</td>\n",
              "      <td>206.282852</td>\n",
              "    </tr>\n",
              "    <tr>\n",
              "      <th>118</th>\n",
              "      <td>0</td>\n",
              "      <td>118</td>\n",
              "      <td>7</td>\n",
              "      <td>1.001373</td>\n",
              "      <td>1.002746</td>\n",
              "      <td>1.001373</td>\n",
              "      <td>1.002550</td>\n",
              "      <td>3.620155e+06</td>\n",
              "      <td>184873.296875</td>\n",
              "      <td>568.850525</td>\n",
              "      <td>3.505575e+06</td>\n",
              "      <td>179018.250000</td>\n",
              "    </tr>\n",
              "    <tr>\n",
              "      <th>119</th>\n",
              "      <td>0</td>\n",
              "      <td>119</td>\n",
              "      <td>7</td>\n",
              "      <td>1.002550</td>\n",
              "      <td>1.003138</td>\n",
              "      <td>1.002550</td>\n",
              "      <td>1.003138</td>\n",
              "      <td>4.536033e+05</td>\n",
              "      <td>23192.257812</td>\n",
              "      <td>255.001953</td>\n",
              "      <td>3.340467e+05</td>\n",
              "      <td>17079.324219</td>\n",
              "    </tr>\n",
              "  </tbody>\n",
              "</table>\n",
              "<p>120 rows × 12 columns</p>\n",
              "</div>"
            ],
            "text/plain": [
              "     sample_id  time  coin_index  ...      trades    tb_base_av    tb_quote_av\n",
              "0            0     0           7  ...  137.308746  8.305119e+05   42356.179688\n",
              "1            0     1           7  ...  294.233032  4.882738e+05   24909.861328\n",
              "2            0     2           7  ...   58.846603  5.113770e+05   26100.681641\n",
              "3            0     3           7  ...  137.308746  1.095514e+06   55921.156250\n",
              "4            0     4           7  ...  666.928162  9.911239e+05   50528.589844\n",
              "..         ...   ...         ...  ...         ...           ...            ...\n",
              "115          0   115           7  ...  666.928162  2.410357e+05   12318.685547\n",
              "116          0   116           7  ...  137.308746  1.467634e+05    7493.740723\n",
              "117          0   117           7  ...   39.231071  4.040800e+03     206.282852\n",
              "118          0   118           7  ...  568.850525  3.505575e+06  179018.250000\n",
              "119          0   119           7  ...  255.001953  3.340467e+05   17079.324219\n",
              "\n",
              "[120 rows x 12 columns]"
            ]
          },
          "metadata": {
            "tags": []
          },
          "execution_count": 270
        }
      ]
    },
    {
      "cell_type": "code",
      "metadata": {
        "id": "J_Kqrrb86BJj"
      },
      "source": [
        "X_train_tensors = Variable(torch.Tensor(np.array(train_x_df.iloc[:, 3:])))\n",
        "\n",
        "X_test_tensors = Variable(torch.Tensor(np.array(test_x_df.iloc[:, 3:])))\n",
        "\n",
        "y_train_tensors = Variable(torch.Tensor(np.array(train_y_df.iloc[:, 4:5])))\n",
        "\n",
        "# X_train_tensors = Variable(torch.Tensor(np.array(train_x_df[train_x_df.loc[:, col_name[3:]]])))\n",
        "\n",
        "# X_test_tensors = Variable(torch.Tensor(np.array(test_x_df[test_x_df.loc[:, col_name[3:]]])))\n",
        "\n",
        "# y_train_tensors = Variable(torch.Tensor(np.array(train_y_df[train_y_df.iloc[:, 3:])))"
      ],
      "execution_count": 334,
      "outputs": []
    },
    {
      "cell_type": "code",
      "metadata": {
        "colab": {
          "base_uri": "https://localhost:8080/"
        },
        "id": "A0J_cywp2jVK",
        "outputId": "5a930222-64a7-4e16-d186-8b20c2c65a8f"
      },
      "source": [
        "X_train_tensors.shape, X_test_tensors.shape, y_train_tensors.shape"
      ],
      "execution_count": 202,
      "outputs": [
        {
          "output_type": "execute_result",
          "data": {
            "text/plain": [
              "(torch.Size([10159560, 9]), torch.Size([730020, 9]), torch.Size([883440, 1]))"
            ]
          },
          "metadata": {
            "tags": []
          },
          "execution_count": 202
        }
      ]
    },
    {
      "cell_type": "code",
      "metadata": {
        "colab": {
          "base_uri": "https://localhost:8080/",
          "height": 439
        },
        "id": "G1OIdDfO7v4v",
        "outputId": "da5140b9-faa8-411b-a606-115141d5f044"
      },
      "source": [
        "train_y_df"
      ],
      "execution_count": 342,
      "outputs": [
        {
          "output_type": "execute_result",
          "data": {
            "text/html": [
              "<div>\n",
              "<style scoped>\n",
              "    .dataframe tbody tr th:only-of-type {\n",
              "        vertical-align: middle;\n",
              "    }\n",
              "\n",
              "    .dataframe tbody tr th {\n",
              "        vertical-align: top;\n",
              "    }\n",
              "\n",
              "    .dataframe thead th {\n",
              "        text-align: right;\n",
              "    }\n",
              "</style>\n",
              "<table border=\"1\" class=\"dataframe\">\n",
              "  <thead>\n",
              "    <tr style=\"text-align: right;\">\n",
              "      <th></th>\n",
              "      <th>sample_id</th>\n",
              "      <th>time</th>\n",
              "      <th>coin_index</th>\n",
              "      <th>open</th>\n",
              "      <th>high</th>\n",
              "      <th>low</th>\n",
              "      <th>close</th>\n",
              "      <th>volume</th>\n",
              "      <th>quote_av</th>\n",
              "      <th>trades</th>\n",
              "      <th>tb_base_av</th>\n",
              "      <th>tb_quote_av</th>\n",
              "    </tr>\n",
              "  </thead>\n",
              "  <tbody>\n",
              "    <tr>\n",
              "      <th>0</th>\n",
              "      <td>0</td>\n",
              "      <td>0</td>\n",
              "      <td>7</td>\n",
              "      <td>1.000392</td>\n",
              "      <td>1.000588</td>\n",
              "      <td>1.000392</td>\n",
              "      <td>1.000588</td>\n",
              "      <td>8.305119e+05</td>\n",
              "      <td>42356.179688</td>\n",
              "      <td>137.308746</td>\n",
              "      <td>8.305119e+05</td>\n",
              "      <td>42356.179688</td>\n",
              "    </tr>\n",
              "    <tr>\n",
              "      <th>1</th>\n",
              "      <td>0</td>\n",
              "      <td>1</td>\n",
              "      <td>7</td>\n",
              "      <td>1.000588</td>\n",
              "      <td>1.001177</td>\n",
              "      <td>1.000392</td>\n",
              "      <td>1.001177</td>\n",
              "      <td>5.320066e+05</td>\n",
              "      <td>27140.638672</td>\n",
              "      <td>294.233032</td>\n",
              "      <td>4.882738e+05</td>\n",
              "      <td>24909.861328</td>\n",
              "    </tr>\n",
              "    <tr>\n",
              "      <th>2</th>\n",
              "      <td>0</td>\n",
              "      <td>2</td>\n",
              "      <td>7</td>\n",
              "      <td>1.001177</td>\n",
              "      <td>1.001177</td>\n",
              "      <td>1.001177</td>\n",
              "      <td>1.001177</td>\n",
              "      <td>5.113770e+05</td>\n",
              "      <td>26100.681641</td>\n",
              "      <td>58.846603</td>\n",
              "      <td>5.113770e+05</td>\n",
              "      <td>26100.681641</td>\n",
              "    </tr>\n",
              "    <tr>\n",
              "      <th>3</th>\n",
              "      <td>0</td>\n",
              "      <td>3</td>\n",
              "      <td>7</td>\n",
              "      <td>1.001177</td>\n",
              "      <td>1.001373</td>\n",
              "      <td>1.001177</td>\n",
              "      <td>1.001373</td>\n",
              "      <td>1.134853e+06</td>\n",
              "      <td>57929.410156</td>\n",
              "      <td>137.308746</td>\n",
              "      <td>1.095514e+06</td>\n",
              "      <td>55921.156250</td>\n",
              "    </tr>\n",
              "    <tr>\n",
              "      <th>4</th>\n",
              "      <td>0</td>\n",
              "      <td>4</td>\n",
              "      <td>7</td>\n",
              "      <td>1.000981</td>\n",
              "      <td>1.000981</td>\n",
              "      <td>0.999804</td>\n",
              "      <td>1.000196</td>\n",
              "      <td>5.801173e+06</td>\n",
              "      <td>295872.343750</td>\n",
              "      <td>666.928162</td>\n",
              "      <td>9.911239e+05</td>\n",
              "      <td>50528.589844</td>\n",
              "    </tr>\n",
              "    <tr>\n",
              "      <th>...</th>\n",
              "      <td>...</td>\n",
              "      <td>...</td>\n",
              "      <td>...</td>\n",
              "      <td>...</td>\n",
              "      <td>...</td>\n",
              "      <td>...</td>\n",
              "      <td>...</td>\n",
              "      <td>...</td>\n",
              "      <td>...</td>\n",
              "      <td>...</td>\n",
              "      <td>...</td>\n",
              "      <td>...</td>\n",
              "    </tr>\n",
              "    <tr>\n",
              "      <th>883435</th>\n",
              "      <td>7361</td>\n",
              "      <td>115</td>\n",
              "      <td>8</td>\n",
              "      <td>1.007303</td>\n",
              "      <td>1.007845</td>\n",
              "      <td>1.007261</td>\n",
              "      <td>1.007720</td>\n",
              "      <td>2.843995e+00</td>\n",
              "      <td>686.734558</td>\n",
              "      <td>0.792856</td>\n",
              "      <td>1.373841e+00</td>\n",
              "      <td>331.730499</td>\n",
              "    </tr>\n",
              "    <tr>\n",
              "      <th>883436</th>\n",
              "      <td>7361</td>\n",
              "      <td>116</td>\n",
              "      <td>8</td>\n",
              "      <td>1.007678</td>\n",
              "      <td>1.008847</td>\n",
              "      <td>1.007678</td>\n",
              "      <td>1.008471</td>\n",
              "      <td>2.577599e+00</td>\n",
              "      <td>622.798462</td>\n",
              "      <td>0.884660</td>\n",
              "      <td>1.638966e+00</td>\n",
              "      <td>396.005463</td>\n",
              "    </tr>\n",
              "    <tr>\n",
              "      <th>883437</th>\n",
              "      <td>7361</td>\n",
              "      <td>117</td>\n",
              "      <td>8</td>\n",
              "      <td>1.008513</td>\n",
              "      <td>1.009014</td>\n",
              "      <td>1.008304</td>\n",
              "      <td>1.008805</td>\n",
              "      <td>4.579865e+00</td>\n",
              "      <td>1106.928345</td>\n",
              "      <td>1.210149</td>\n",
              "      <td>1.735705e+00</td>\n",
              "      <td>419.485596</td>\n",
              "    </tr>\n",
              "    <tr>\n",
              "      <th>883438</th>\n",
              "      <td>7361</td>\n",
              "      <td>118</td>\n",
              "      <td>8</td>\n",
              "      <td>1.008680</td>\n",
              "      <td>1.009222</td>\n",
              "      <td>1.008680</td>\n",
              "      <td>1.009222</td>\n",
              "      <td>1.065129e+00</td>\n",
              "      <td>257.542755</td>\n",
              "      <td>0.525789</td>\n",
              "      <td>4.348240e-01</td>\n",
              "      <td>105.134232</td>\n",
              "    </tr>\n",
              "    <tr>\n",
              "      <th>883439</th>\n",
              "      <td>7361</td>\n",
              "      <td>119</td>\n",
              "      <td>8</td>\n",
              "      <td>1.009180</td>\n",
              "      <td>1.009514</td>\n",
              "      <td>1.007678</td>\n",
              "      <td>1.008304</td>\n",
              "      <td>5.126380e+00</td>\n",
              "      <td>1238.963379</td>\n",
              "      <td>1.577366</td>\n",
              "      <td>3.126406e+00</td>\n",
              "      <td>755.548645</td>\n",
              "    </tr>\n",
              "  </tbody>\n",
              "</table>\n",
              "<p>883440 rows × 12 columns</p>\n",
              "</div>"
            ],
            "text/plain": [
              "        sample_id  time  coin_index  ...      trades    tb_base_av   tb_quote_av\n",
              "0               0     0           7  ...  137.308746  8.305119e+05  42356.179688\n",
              "1               0     1           7  ...  294.233032  4.882738e+05  24909.861328\n",
              "2               0     2           7  ...   58.846603  5.113770e+05  26100.681641\n",
              "3               0     3           7  ...  137.308746  1.095514e+06  55921.156250\n",
              "4               0     4           7  ...  666.928162  9.911239e+05  50528.589844\n",
              "...           ...   ...         ...  ...         ...           ...           ...\n",
              "883435       7361   115           8  ...    0.792856  1.373841e+00    331.730499\n",
              "883436       7361   116           8  ...    0.884660  1.638966e+00    396.005463\n",
              "883437       7361   117           8  ...    1.210149  1.735705e+00    419.485596\n",
              "883438       7361   118           8  ...    0.525789  4.348240e-01    105.134232\n",
              "883439       7361   119           8  ...    1.577366  3.126406e+00    755.548645\n",
              "\n",
              "[883440 rows x 12 columns]"
            ]
          },
          "metadata": {
            "tags": []
          },
          "execution_count": 342
        }
      ]
    },
    {
      "cell_type": "code",
      "metadata": {
        "id": "MMdWjhXe6zrI"
      },
      "source": [
        "#reshaping to rows, timestamps, features\n",
        "\n",
        "X_train_tensors_final = torch.reshape(X_train_tensors,   (-1, 1380, X_train_tensors.shape[1]))\n",
        "X_test_tensors_final = torch.reshape(X_test_tensors,  (-1 , 1380, X_test_tensors.shape[1])) \n",
        "y_train_tensors_final =torch.reshape(y_train_tensors,  (-1 , 120, y_train_tensors.shape[1])) \n",
        "# X_train_tensors_final = torch.reshape(train_x_df.iloc[:,3].values,   (-1, 1380, 1))\n"
      ],
      "execution_count": 337,
      "outputs": []
    },
    {
      "cell_type": "code",
      "metadata": {
        "colab": {
          "base_uri": "https://localhost:8080/"
        },
        "id": "EDhHGEVHSFYc",
        "outputId": "9c3b887c-ed97-45a5-ef7d-b1be4709ab9a"
      },
      "source": [
        "X_train_tensors_final.shape"
      ],
      "execution_count": 338,
      "outputs": [
        {
          "output_type": "execute_result",
          "data": {
            "text/plain": [
              "torch.Size([7362, 1380, 9])"
            ]
          },
          "metadata": {
            "tags": []
          },
          "execution_count": 338
        }
      ]
    },
    {
      "cell_type": "code",
      "metadata": {
        "colab": {
          "base_uri": "https://localhost:8080/"
        },
        "id": "v3PA8QKgesBp",
        "outputId": "bce8ad6e-6716-421f-fdcd-9acde4ddd371"
      },
      "source": [
        "y_train_tensors_final.shape"
      ],
      "execution_count": 339,
      "outputs": [
        {
          "output_type": "execute_result",
          "data": {
            "text/plain": [
              "torch.Size([7362, 120, 1])"
            ]
          },
          "metadata": {
            "tags": []
          },
          "execution_count": 339
        }
      ]
    },
    {
      "cell_type": "code",
      "metadata": {
        "colab": {
          "base_uri": "https://localhost:8080/"
        },
        "id": "tykiJfGV98Wz",
        "outputId": "438edb53-5ddf-4cdf-ee7a-c9e907793c4b"
      },
      "source": [
        "X_train_tensors_final.shape"
      ],
      "execution_count": 340,
      "outputs": [
        {
          "output_type": "execute_result",
          "data": {
            "text/plain": [
              "torch.Size([7362, 1380, 9])"
            ]
          },
          "metadata": {
            "tags": []
          },
          "execution_count": 340
        }
      ]
    },
    {
      "cell_type": "code",
      "metadata": {
        "colab": {
          "base_uri": "https://localhost:8080/"
        },
        "id": "0ad1M9y0ayQB",
        "outputId": "40a4101a-8ad9-4e80-cfbc-4dab3652f69f"
      },
      "source": [
        "X_test_tensors_final.shape[1]"
      ],
      "execution_count": 341,
      "outputs": [
        {
          "output_type": "execute_result",
          "data": {
            "text/plain": [
              "1380"
            ]
          },
          "metadata": {
            "tags": []
          },
          "execution_count": 341
        }
      ]
    },
    {
      "cell_type": "code",
      "metadata": {
        "id": "8XJoU5EcaRRU"
      },
      "source": [
        "X_train_data_loader = torch.utils.data.DataLoader(X_train_tensors_final, 690, shuffle=False)\n",
        "y_train_data_loader = torch.utils.data.DataLoader(y_train_tensors_final, 1227, shuffle=False)\n",
        "X_test_data_loader = torch.utils.data.DataLoader(X_test_tensors_final, 1227, shuffle=False)\n"
      ],
      "execution_count": 310,
      "outputs": []
    },
    {
      "cell_type": "code",
      "metadata": {
        "id": "wlryj1ULwcO2"
      },
      "source": [
        "for batch in X_train_data_loader:\n",
        "    X_train_data = batch\n",
        "\n",
        "for batch in y_train_data_loader:\n",
        "    y_train_data = batch"
      ],
      "execution_count": 311,
      "outputs": []
    },
    {
      "cell_type": "code",
      "metadata": {
        "id": "8GpQob0bdwbt"
      },
      "source": [
        "from torch.utils.data import TensorDataset # 텐서데이터셋\n"
      ],
      "execution_count": 220,
      "outputs": []
    },
    {
      "cell_type": "code",
      "metadata": {
        "id": "hSqD45txdprY"
      },
      "source": [
        "dataset = TensorDataset(X_train_tensors_final, y_train_tensors_final)"
      ],
      "execution_count": 252,
      "outputs": []
    },
    {
      "cell_type": "code",
      "metadata": {
        "id": "KPdGWXked_ok"
      },
      "source": [
        "dataloader = DataLoader(dataset, batch_size=1380, shuffle=False)"
      ],
      "execution_count": 222,
      "outputs": []
    },
    {
      "cell_type": "code",
      "metadata": {
        "colab": {
          "base_uri": "https://localhost:8080/"
        },
        "id": "HHMAcz2MohO_",
        "outputId": "763e0798-76df-4c0a-f995-3356f259bff9"
      },
      "source": [
        "x_train.shape, y_train.shape"
      ],
      "execution_count": 225,
      "outputs": [
        {
          "output_type": "execute_result",
          "data": {
            "text/plain": [
              "(torch.Size([462, 1380, 9]), torch.Size([462, 120, 1]))"
            ]
          },
          "metadata": {
            "tags": []
          },
          "execution_count": 225
        }
      ]
    },
    {
      "cell_type": "code",
      "metadata": {
        "colab": {
          "base_uri": "https://localhost:8080/"
        },
        "id": "d1gnQvz_qTuh",
        "outputId": "9c55aab7-110c-49af-c50a-ef4f95236eef"
      },
      "source": [
        "y_train_data.shape, X_train_data.shape"
      ],
      "execution_count": 312,
      "outputs": [
        {
          "output_type": "execute_result",
          "data": {
            "text/plain": [
              "(torch.Size([1227, 60, 1]), torch.Size([1227, 60, 9]))"
            ]
          },
          "metadata": {
            "tags": []
          },
          "execution_count": 312
        }
      ]
    },
    {
      "cell_type": "markdown",
      "metadata": {
        "id": "G43YafTHIwAe"
      },
      "source": [
        "# LSTM modeling"
      ]
    },
    {
      "cell_type": "code",
      "metadata": {
        "id": "39tYUabg6G2k"
      },
      "source": [
        "class LSTM1(nn.Module):\n",
        "    def __init__(self, num_classes, input_size, hidden_size, num_layers, seq_length):\n",
        "        super(LSTM1, self).__init__()\n",
        "        self.num_classes = num_classes #number of classes\n",
        "        self.num_layers = num_layers #number of layers\n",
        "        self.input_size = input_size #input size\n",
        "        self.hidden_size = hidden_size #hidden state\n",
        "        self.seq_length = seq_length #sequence length\n",
        "\n",
        "        self.lstm = nn.LSTM(input_size=input_size, hidden_size=hidden_size, \n",
        "                          num_layers=num_layers, batch_first=True) #lstm\n",
        "        self.fc_1 =  nn.Linear(hidden_size, 120) #fully connected 1\n",
        "        self.fc = nn.Linear(120, num_classes) #fully connected last layer\n",
        "\n",
        "        self.relu = nn.ReLU()\n",
        "    \n",
        "    def forward(self,x):\n",
        "        h_0 = Variable(torch.zeros(self.num_layers, x.size(0), self.hidden_size)) #hidden state\n",
        "        c_0 = Variable(torch.zeros(self.num_layers, x.size(0), self.hidden_size)) #internal state\n",
        "        # Propagate input through LSTM\n",
        "        output, (hn, cn) = self.lstm(x, (h_0, c_0)) #lstm with input, hidden, and internal state\n",
        "        hn = hn.view(-1, self.hidden_size) #reshaping the data for Dense layer next\n",
        "        out = self.relu(hn)\n",
        "        out = self.fc_1(out) #first Dense\n",
        "        out = self.relu(out) #relu\n",
        "        out = self.fc(out) #Final Output\n",
        "        return out"
      ],
      "execution_count": 325,
      "outputs": []
    },
    {
      "cell_type": "code",
      "metadata": {
        "colab": {
          "base_uri": "https://localhost:8080/"
        },
        "id": "gQcL2liGm_2H",
        "outputId": "fb5c7db3-fe4d-4fc3-93b8-e7eb6404247d"
      },
      "source": [
        " nn.LSTM(input_size=input_size, hidden_size=hidden_size, \n",
        "                          num_layers=num_layers, batch_first=True) "
      ],
      "execution_count": 326,
      "outputs": [
        {
          "output_type": "execute_result",
          "data": {
            "text/plain": [
              "LSTM(9, 10, batch_first=True)"
            ]
          },
          "metadata": {
            "tags": []
          },
          "execution_count": 326
        }
      ]
    },
    {
      "cell_type": "code",
      "metadata": {
        "colab": {
          "base_uri": "https://localhost:8080/"
        },
        "id": "qtltgUFPnOOA",
        "outputId": "b8f482b8-bdea-45a0-d30e-9b37ae288d38"
      },
      "source": [
        " X_train_data.shape"
      ],
      "execution_count": 327,
      "outputs": [
        {
          "output_type": "execute_result",
          "data": {
            "text/plain": [
              "torch.Size([1227, 60, 9])"
            ]
          },
          "metadata": {
            "tags": []
          },
          "execution_count": 327
        }
      ]
    },
    {
      "cell_type": "code",
      "metadata": {
        "colab": {
          "base_uri": "https://localhost:8080/"
        },
        "id": "RJ5nmDlYn39X",
        "outputId": "d700fffe-bdd1-46f4-a2fd-5150fe3506aa"
      },
      "source": [
        "X_train_tensors_final.shape"
      ],
      "execution_count": 328,
      "outputs": [
        {
          "output_type": "execute_result",
          "data": {
            "text/plain": [
              "torch.Size([169326, 60, 9])"
            ]
          },
          "metadata": {
            "tags": []
          },
          "execution_count": 328
        }
      ]
    },
    {
      "cell_type": "code",
      "metadata": {
        "colab": {
          "base_uri": "https://localhost:8080/"
        },
        "id": "WNvnVJhhmvex",
        "outputId": "41b63ff9-32fc-481b-8f8a-e75171d2ddd7"
      },
      "source": [
        "Variable(torch.zeros(1, 462, 9)) .shape"
      ],
      "execution_count": 329,
      "outputs": [
        {
          "output_type": "execute_result",
          "data": {
            "text/plain": [
              "torch.Size([1, 462, 9])"
            ]
          },
          "metadata": {
            "tags": []
          },
          "execution_count": 329
        }
      ]
    },
    {
      "cell_type": "code",
      "metadata": {
        "id": "ZZ8wmT4NJaZl"
      },
      "source": [
        "num_epochs = 1000 #1000 epochs\n",
        "learning_rate = 0.1 #0.01 lr\n",
        "\n",
        "input_size = 9 #number of features\n",
        "# batch_size = 1380 # batch size\n",
        "hidden_size = 10 #number of features in hidden state\n",
        "num_layers = 1 #number of stacked lstm layers\n",
        "\n",
        "num_classes = 1 #number of output classes "
      ],
      "execution_count": 330,
      "outputs": []
    },
    {
      "cell_type": "code",
      "metadata": {
        "id": "CPPPpmOne0Dr"
      },
      "source": [
        "lstm1 = LSTM1(num_classes, input_size, hidden_size, num_layers, 1) #our lstm class "
      ],
      "execution_count": 331,
      "outputs": []
    },
    {
      "cell_type": "code",
      "metadata": {
        "id": "CsfBoF43J4bF"
      },
      "source": [
        "criterion = torch.nn.MSELoss()    # mean-squared error for regression\n",
        "optimizer = torch.optim.Adam(lstm1.parameters(), lr=learning_rate) "
      ],
      "execution_count": 332,
      "outputs": []
    },
    {
      "cell_type": "code",
      "metadata": {
        "colab": {
          "base_uri": "https://localhost:8080/",
          "height": 450
        },
        "id": "FBLUll4mfyUH",
        "outputId": "4fe2fcee-eb3a-47e6-dd36-7643ce6a4989"
      },
      "source": [
        "nb_epochs = 20\n",
        "for epoch in range(nb_epochs + 1):\n",
        "  for batch_idx, samples in enumerate(dataloader):\n",
        "    # print(batch_idx)\n",
        "    # print(samples)\n",
        "    x_train, y_train = samples\n",
        "    outputs = lstm1.forward(X_train_data) #forward pass\n",
        "    optimizer.zero_grad() #caluclate the gradient, manually setting to 0\n",
        "    \n",
        "    # obtain the loss function\n",
        "    loss = criterion(outputs, y_train_data)\n",
        "    \n",
        "    loss.backward() #calculates the loss of the loss function\n",
        "    \n",
        "    optimizer.step() #improve from loss, i.e backprop\n",
        "    if epoch % 100 == 0:\n",
        "        print(\"Epoch: %d, loss: %1.5f\" % (epoch, loss.item())) \n",
        "        "
      ],
      "execution_count": 333,
      "outputs": [
        {
          "output_type": "stream",
          "text": [
            "/usr/local/lib/python3.7/dist-packages/torch/nn/modules/loss.py:528: UserWarning: Using a target size (torch.Size([1227, 60, 1])) that is different to the input size (torch.Size([1227, 1])). This will likely lead to incorrect results due to broadcasting. Please ensure they have the same size.\n",
            "  return F.mse_loss(input, target, reduction=self.reduction)\n"
          ],
          "name": "stderr"
        },
        {
          "output_type": "error",
          "ename": "RuntimeError",
          "evalue": "ignored",
          "traceback": [
            "\u001b[0;31m---------------------------------------------------------------------------\u001b[0m",
            "\u001b[0;31mRuntimeError\u001b[0m                              Traceback (most recent call last)",
            "\u001b[0;32m<ipython-input-333-0bf3bee05336>\u001b[0m in \u001b[0;36m<module>\u001b[0;34m()\u001b[0m\n\u001b[1;32m      9\u001b[0m \u001b[0;34m\u001b[0m\u001b[0m\n\u001b[1;32m     10\u001b[0m     \u001b[0;31m# obtain the loss function\u001b[0m\u001b[0;34m\u001b[0m\u001b[0;34m\u001b[0m\u001b[0;34m\u001b[0m\u001b[0m\n\u001b[0;32m---> 11\u001b[0;31m     \u001b[0mloss\u001b[0m \u001b[0;34m=\u001b[0m \u001b[0mcriterion\u001b[0m\u001b[0;34m(\u001b[0m\u001b[0moutputs\u001b[0m\u001b[0;34m,\u001b[0m \u001b[0my_train_data\u001b[0m\u001b[0;34m)\u001b[0m\u001b[0;34m\u001b[0m\u001b[0;34m\u001b[0m\u001b[0m\n\u001b[0m\u001b[1;32m     12\u001b[0m \u001b[0;34m\u001b[0m\u001b[0m\n\u001b[1;32m     13\u001b[0m     \u001b[0mloss\u001b[0m\u001b[0;34m.\u001b[0m\u001b[0mbackward\u001b[0m\u001b[0;34m(\u001b[0m\u001b[0;34m)\u001b[0m \u001b[0;31m#calculates the loss of the loss function\u001b[0m\u001b[0;34m\u001b[0m\u001b[0;34m\u001b[0m\u001b[0m\n",
            "\u001b[0;32m/usr/local/lib/python3.7/dist-packages/torch/nn/modules/module.py\u001b[0m in \u001b[0;36m_call_impl\u001b[0;34m(self, *input, **kwargs)\u001b[0m\n\u001b[1;32m    887\u001b[0m             \u001b[0mresult\u001b[0m \u001b[0;34m=\u001b[0m \u001b[0mself\u001b[0m\u001b[0;34m.\u001b[0m\u001b[0m_slow_forward\u001b[0m\u001b[0;34m(\u001b[0m\u001b[0;34m*\u001b[0m\u001b[0minput\u001b[0m\u001b[0;34m,\u001b[0m \u001b[0;34m**\u001b[0m\u001b[0mkwargs\u001b[0m\u001b[0;34m)\u001b[0m\u001b[0;34m\u001b[0m\u001b[0;34m\u001b[0m\u001b[0m\n\u001b[1;32m    888\u001b[0m         \u001b[0;32melse\u001b[0m\u001b[0;34m:\u001b[0m\u001b[0;34m\u001b[0m\u001b[0;34m\u001b[0m\u001b[0m\n\u001b[0;32m--> 889\u001b[0;31m             \u001b[0mresult\u001b[0m \u001b[0;34m=\u001b[0m \u001b[0mself\u001b[0m\u001b[0;34m.\u001b[0m\u001b[0mforward\u001b[0m\u001b[0;34m(\u001b[0m\u001b[0;34m*\u001b[0m\u001b[0minput\u001b[0m\u001b[0;34m,\u001b[0m \u001b[0;34m**\u001b[0m\u001b[0mkwargs\u001b[0m\u001b[0;34m)\u001b[0m\u001b[0;34m\u001b[0m\u001b[0;34m\u001b[0m\u001b[0m\n\u001b[0m\u001b[1;32m    890\u001b[0m         for hook in itertools.chain(\n\u001b[1;32m    891\u001b[0m                 \u001b[0m_global_forward_hooks\u001b[0m\u001b[0;34m.\u001b[0m\u001b[0mvalues\u001b[0m\u001b[0;34m(\u001b[0m\u001b[0;34m)\u001b[0m\u001b[0;34m,\u001b[0m\u001b[0;34m\u001b[0m\u001b[0;34m\u001b[0m\u001b[0m\n",
            "\u001b[0;32m/usr/local/lib/python3.7/dist-packages/torch/nn/modules/loss.py\u001b[0m in \u001b[0;36mforward\u001b[0;34m(self, input, target)\u001b[0m\n\u001b[1;32m    526\u001b[0m \u001b[0;34m\u001b[0m\u001b[0m\n\u001b[1;32m    527\u001b[0m     \u001b[0;32mdef\u001b[0m \u001b[0mforward\u001b[0m\u001b[0;34m(\u001b[0m\u001b[0mself\u001b[0m\u001b[0;34m,\u001b[0m \u001b[0minput\u001b[0m\u001b[0;34m:\u001b[0m \u001b[0mTensor\u001b[0m\u001b[0;34m,\u001b[0m \u001b[0mtarget\u001b[0m\u001b[0;34m:\u001b[0m \u001b[0mTensor\u001b[0m\u001b[0;34m)\u001b[0m \u001b[0;34m->\u001b[0m \u001b[0mTensor\u001b[0m\u001b[0;34m:\u001b[0m\u001b[0;34m\u001b[0m\u001b[0;34m\u001b[0m\u001b[0m\n\u001b[0;32m--> 528\u001b[0;31m         \u001b[0;32mreturn\u001b[0m \u001b[0mF\u001b[0m\u001b[0;34m.\u001b[0m\u001b[0mmse_loss\u001b[0m\u001b[0;34m(\u001b[0m\u001b[0minput\u001b[0m\u001b[0;34m,\u001b[0m \u001b[0mtarget\u001b[0m\u001b[0;34m,\u001b[0m \u001b[0mreduction\u001b[0m\u001b[0;34m=\u001b[0m\u001b[0mself\u001b[0m\u001b[0;34m.\u001b[0m\u001b[0mreduction\u001b[0m\u001b[0;34m)\u001b[0m\u001b[0;34m\u001b[0m\u001b[0;34m\u001b[0m\u001b[0m\n\u001b[0m\u001b[1;32m    529\u001b[0m \u001b[0;34m\u001b[0m\u001b[0m\n\u001b[1;32m    530\u001b[0m \u001b[0;34m\u001b[0m\u001b[0m\n",
            "\u001b[0;32m/usr/local/lib/python3.7/dist-packages/torch/nn/functional.py\u001b[0m in \u001b[0;36mmse_loss\u001b[0;34m(input, target, size_average, reduce, reduction)\u001b[0m\n\u001b[1;32m   2923\u001b[0m         \u001b[0mreduction\u001b[0m \u001b[0;34m=\u001b[0m \u001b[0m_Reduction\u001b[0m\u001b[0;34m.\u001b[0m\u001b[0mlegacy_get_string\u001b[0m\u001b[0;34m(\u001b[0m\u001b[0msize_average\u001b[0m\u001b[0;34m,\u001b[0m \u001b[0mreduce\u001b[0m\u001b[0;34m)\u001b[0m\u001b[0;34m\u001b[0m\u001b[0;34m\u001b[0m\u001b[0m\n\u001b[1;32m   2924\u001b[0m \u001b[0;34m\u001b[0m\u001b[0m\n\u001b[0;32m-> 2925\u001b[0;31m     \u001b[0mexpanded_input\u001b[0m\u001b[0;34m,\u001b[0m \u001b[0mexpanded_target\u001b[0m \u001b[0;34m=\u001b[0m \u001b[0mtorch\u001b[0m\u001b[0;34m.\u001b[0m\u001b[0mbroadcast_tensors\u001b[0m\u001b[0;34m(\u001b[0m\u001b[0minput\u001b[0m\u001b[0;34m,\u001b[0m \u001b[0mtarget\u001b[0m\u001b[0;34m)\u001b[0m\u001b[0;34m\u001b[0m\u001b[0;34m\u001b[0m\u001b[0m\n\u001b[0m\u001b[1;32m   2926\u001b[0m     \u001b[0;32mreturn\u001b[0m \u001b[0mtorch\u001b[0m\u001b[0;34m.\u001b[0m\u001b[0m_C\u001b[0m\u001b[0;34m.\u001b[0m\u001b[0m_nn\u001b[0m\u001b[0;34m.\u001b[0m\u001b[0mmse_loss\u001b[0m\u001b[0;34m(\u001b[0m\u001b[0mexpanded_input\u001b[0m\u001b[0;34m,\u001b[0m \u001b[0mexpanded_target\u001b[0m\u001b[0;34m,\u001b[0m \u001b[0m_Reduction\u001b[0m\u001b[0;34m.\u001b[0m\u001b[0mget_enum\u001b[0m\u001b[0;34m(\u001b[0m\u001b[0mreduction\u001b[0m\u001b[0;34m)\u001b[0m\u001b[0;34m)\u001b[0m\u001b[0;34m\u001b[0m\u001b[0;34m\u001b[0m\u001b[0m\n\u001b[1;32m   2927\u001b[0m \u001b[0;34m\u001b[0m\u001b[0m\n",
            "\u001b[0;32m/usr/local/lib/python3.7/dist-packages/torch/functional.py\u001b[0m in \u001b[0;36mbroadcast_tensors\u001b[0;34m(*tensors)\u001b[0m\n\u001b[1;32m     72\u001b[0m     \u001b[0;32mif\u001b[0m \u001b[0mhas_torch_function\u001b[0m\u001b[0;34m(\u001b[0m\u001b[0mtensors\u001b[0m\u001b[0;34m)\u001b[0m\u001b[0;34m:\u001b[0m\u001b[0;34m\u001b[0m\u001b[0;34m\u001b[0m\u001b[0m\n\u001b[1;32m     73\u001b[0m         \u001b[0;32mreturn\u001b[0m \u001b[0mhandle_torch_function\u001b[0m\u001b[0;34m(\u001b[0m\u001b[0mbroadcast_tensors\u001b[0m\u001b[0;34m,\u001b[0m \u001b[0mtensors\u001b[0m\u001b[0;34m,\u001b[0m \u001b[0;34m*\u001b[0m\u001b[0mtensors\u001b[0m\u001b[0;34m)\u001b[0m\u001b[0;34m\u001b[0m\u001b[0;34m\u001b[0m\u001b[0m\n\u001b[0;32m---> 74\u001b[0;31m     \u001b[0;32mreturn\u001b[0m \u001b[0m_VF\u001b[0m\u001b[0;34m.\u001b[0m\u001b[0mbroadcast_tensors\u001b[0m\u001b[0;34m(\u001b[0m\u001b[0mtensors\u001b[0m\u001b[0;34m)\u001b[0m  \u001b[0;31m# type: ignore\u001b[0m\u001b[0;34m\u001b[0m\u001b[0;34m\u001b[0m\u001b[0m\n\u001b[0m\u001b[1;32m     75\u001b[0m \u001b[0;34m\u001b[0m\u001b[0m\n\u001b[1;32m     76\u001b[0m \u001b[0;34m\u001b[0m\u001b[0m\n",
            "\u001b[0;31mRuntimeError\u001b[0m: The size of tensor a (1227) must match the size of tensor b (60) at non-singleton dimension 1"
          ]
        }
      ]
    },
    {
      "cell_type": "code",
      "metadata": {
        "id": "XwMYCKgxJ8Cp"
      },
      "source": [
        "for epoch in range(num_epochs):\n",
        "  outputs = lstm1.forward(X_train_tensors_final) #forward pass\n",
        "  optimizer.zero_grad() #caluclate the gradient, manually setting to 0\n",
        " \n",
        "  # obtain the loss function\n",
        "  loss = criterion(outputs, y_train_tensors_final)\n",
        " \n",
        "  loss.backward() #calculates the loss of the loss function\n",
        " \n",
        "  optimizer.step() #improve from loss, i.e backprop\n",
        "  if epoch % 100 == 0:\n",
        "    print(\"Epoch: %d, loss: %1.5f\" % (epoch, loss.item())) "
      ],
      "execution_count": null,
      "outputs": []
    },
    {
      "cell_type": "code",
      "metadata": {
        "id": "VlfLdVNC6n8E"
      },
      "source": [
        "results = []\n",
        "for i in range(simulation_size):\n",
        "    print('simulation %d'%(i + 1))\n",
        "    results.append(forecast())"
      ],
      "execution_count": null,
      "outputs": []
    },
    {
      "cell_type": "code",
      "metadata": {
        "id": "Ijud2g1hB00i"
      },
      "source": [
        "train_y_df"
      ],
      "execution_count": null,
      "outputs": []
    },
    {
      "cell_type": "markdown",
      "metadata": {
        "id": "ncbFQWoiI0pL"
      },
      "source": [
        "- 참조 : https://cnvrg.io/pytorch-lstm/?gclid=CjwKCAjwgOGCBhAlEiwA7FUXknvaSTYr_3NHdJqAuctM0aDmets4r7K9YyLoHXhe41Bh6RRooaYxYRoCuxAQAvD_BwE "
      ]
    }
  ]
}