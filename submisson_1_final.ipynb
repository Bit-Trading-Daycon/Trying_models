{
  "nbformat": 4,
  "nbformat_minor": 0,
  "metadata": {
    "colab": {
      "name": "submisson_1_final.ipynb",
      "provenance": [],
      "collapsed_sections": []
    },
    "kernelspec": {
      "display_name": "Python 3",
      "name": "python3"
    },
    "language_info": {
      "name": "python"
    },
    "accelerator": "GPU"
  },
  "cells": [
    {
      "cell_type": "code",
      "metadata": {
        "id": "93g6-whA-uBW"
      },
      "source": [
        "import numpy as np\n",
        "import pandas as pd\n",
        "import random\n",
        "\n",
        "import gc\n",
        "import math\n",
        "import os.path\n",
        "import time\n",
        "\n",
        "import matplotlib.pyplot as plt\n",
        "from datetime import timedelta, datetime\n",
        "from dateutil import parser\n",
        "from tqdm import tqdm\n",
        "import copy\n",
        "import warnings\n",
        "warnings.filterwarnings(\"ignore\")\n"
      ],
      "execution_count": 2,
      "outputs": []
    },
    {
      "cell_type": "code",
      "metadata": {
        "colab": {
          "base_uri": "https://localhost:8080/"
        },
        "id": "4OqDWV_c-ue4",
        "outputId": "98e15dc6-03c6-43f8-8ff7-d72f653ed99a"
      },
      "source": [
        "from google.colab import drive\n",
        "drive.mount('/content/drive')"
      ],
      "execution_count": 8,
      "outputs": [
        {
          "output_type": "stream",
          "text": [
            "Mounted at /content/drive\n"
          ],
          "name": "stdout"
        }
      ]
    },
    {
      "cell_type": "code",
      "metadata": {
        "id": "2SKzoJ_A-uhW"
      },
      "source": [
        "data_path='/content/drive/MyDrive/Colab Notebooks/Bitcoin_Trading/data'\n",
        "train_x_df = pd.read_csv(data_path  + \"/train_x_df.csv\")\n",
        "train_y_df = pd.read_csv(data_path  + \"/train_y_df.csv\")\n",
        "test_x_df = pd.read_csv(data_path  + \"/test_x_df.csv\")"
      ],
      "execution_count": 9,
      "outputs": []
    },
    {
      "cell_type": "code",
      "metadata": {
        "id": "zggPtC5X-uk0"
      },
      "source": [
        "def df2d_to_array3d(df_2d):\n",
        "    # 입력 받은 2차원 데이터 프레임을 3차원 numpy array로 변경하는 함수\n",
        "    feature_size = df_2d.iloc[:,2:].shape[1]\n",
        "    time_size = len(df_2d.time.value_counts())\n",
        "    sample_size = len(df_2d.sample_id.value_counts())\n",
        "    array_3d = df_2d.iloc[:,2:].values.reshape([sample_size, time_size, feature_size])\n",
        "    return array_3d"
      ],
      "execution_count": 10,
      "outputs": []
    },
    {
      "cell_type": "code",
      "metadata": {
        "id": "jyJmK7Tf-unX"
      },
      "source": [
        "train_x_array = df2d_to_array3d(train_x_df)\n",
        "train_y_array = df2d_to_array3d(train_y_df)\n",
        "test_x_array = df2d_to_array3d(test_x_df)"
      ],
      "execution_count": 11,
      "outputs": []
    },
    {
      "cell_type": "code",
      "metadata": {
        "colab": {
          "base_uri": "https://localhost:8080/"
        },
        "id": "TgYUCT5S-upr",
        "outputId": "23e92b2c-b42e-461c-9d0b-ee8f5d599ebb"
      },
      "source": [
        "print(f'''\n",
        "train_x_array {train_x_array.shape}\n",
        "train_y_array {train_y_array.shape}\n",
        "test_x_array {test_x_array.shape}\n",
        "''')"
      ],
      "execution_count": 12,
      "outputs": [
        {
          "output_type": "stream",
          "text": [
            "\n",
            "train_x_array (7362, 1380, 10)\n",
            "train_y_array (7362, 120, 10)\n",
            "test_x_array (529, 1380, 10)\n",
            "\n"
          ],
          "name": "stdout"
        }
      ]
    },
    {
      "cell_type": "code",
      "metadata": {
        "colab": {
          "base_uri": "https://localhost:8080/"
        },
        "id": "hvk4nYk7-urz",
        "outputId": "507ee2a0-24ef-4281-ff46-34b4f2ac5a35"
      },
      "source": [
        "idxx=1121\n",
        "\n",
        "x_series=train_x_array[idxx,:,1]\n",
        "y_series = train_y_array[idxx,:,1]\n",
        "print(x_series.shape)\n",
        "print(y_series.shape)"
      ],
      "execution_count": 13,
      "outputs": [
        {
          "output_type": "stream",
          "text": [
            "(1380,)\n",
            "(120,)\n"
          ],
          "name": "stdout"
        }
      ]
    },
    {
      "cell_type": "code",
      "metadata": {
        "id": "BWYoROD7-uuJ"
      },
      "source": [
        "def split_data(stock, lookback):\n",
        "    data_raw = stock.to_numpy() # df convert to numpy array\n",
        "    data = []\n",
        "    \n",
        "    # create all possible sequences of length seq_len\n",
        "    for index in range(len(data_raw) - lookback): \n",
        "        data.append(data_raw[index: index + lookback])\n",
        "    \n",
        "    data = np.array(data);\n",
        "    test_set_size = int(np.round(0.2*data.shape[0]));\n",
        "    train_set_size = data.shape[0] - (test_set_size);\n",
        "    \n",
        "    x_train = data[:,:-1,:]\n",
        "    y_train = data[:,-1,:]\n",
        "    \n",
        "    return [x_train, y_train]"
      ],
      "execution_count": 14,
      "outputs": []
    },
    {
      "cell_type": "code",
      "metadata": {
        "id": "EKAfDGG--uwd"
      },
      "source": [
        "x_series=pd.DataFrame(x_series.reshape((-1,1)))\n",
        "lookback=20\n",
        "x_train, y_train = split_data(x_series, lookback)"
      ],
      "execution_count": 15,
      "outputs": []
    },
    {
      "cell_type": "code",
      "metadata": {
        "colab": {
          "base_uri": "https://localhost:8080/"
        },
        "id": "NK2_swx2-u04",
        "outputId": "906d6964-5304-45ef-8369-c5b6fd594c0e"
      },
      "source": [
        "print('x_train.shape = ',x_train.shape)\n",
        "print('y_train.shape = ',y_train.shape)"
      ],
      "execution_count": 16,
      "outputs": [
        {
          "output_type": "stream",
          "text": [
            "x_train.shape =  (1360, 19, 1)\n",
            "y_train.shape =  (1360, 1)\n"
          ],
          "name": "stdout"
        }
      ]
    },
    {
      "cell_type": "code",
      "metadata": {
        "id": "vOEy9Hih-u3P"
      },
      "source": [
        "import torch\n",
        "import torch.nn as nn\n",
        "device=torch.device(\"cuda:0\" if torch.cuda.is_available() else \"cpu\")\n",
        "\n",
        "x_train = torch.from_numpy(x_train).type(torch.Tensor) #(batch_size, time_seq,n_feature)=(1361,19,1)\n",
        "y_train_lstm1= torch.from_numpy(y_train).type(torch.Tensor) #(batch_size, time_seq,n_feature)=(1361,1)\n",
        "y_train_lstm2=torch.from_numpy(y_series.reshape([-1,1])).type(torch.Tensor) ##(batch_size, time_seq,n_feature)=(120,1)\n",
        "y_train_lstm=torch.cat([y_train_lstm1, y_train_lstm2], dim=0) ##(batch_size, time_seq,n_feature)=(1481,1)"
      ],
      "execution_count": 17,
      "outputs": []
    },
    {
      "cell_type": "code",
      "metadata": {
        "id": "o5ZXopZO-u5u"
      },
      "source": [
        "input_dim = 1\n",
        "hidden_dim = 32\n",
        "num_layers = 2\n",
        "output_dim = 1\n",
        "num_epochs = 100"
      ],
      "execution_count": 18,
      "outputs": []
    },
    {
      "cell_type": "code",
      "metadata": {
        "id": "X6LAI0dk-u8M"
      },
      "source": [
        "## 수정본\n",
        "class LSTM(nn.Module):\n",
        "  def __init__(\n",
        "      self,\n",
        "      input_dim,\n",
        "      hidden_dim,\n",
        "      num_layers,\n",
        "      output_dim):\n",
        "    \n",
        "    self.input_dim=input_dim\n",
        "    self.hidden_dim=hidden_dim\n",
        "    self.num_layers=num_layers\n",
        "    self.output_dim=output_dim\n",
        "\n",
        "    super().__init__()\n",
        "\n",
        "    self.lstm=nn.LSTM(input_size=input_dim, hidden_size=hidden_dim, num_layers=num_layers, batch_first=True, bidirectional=True) \n",
        "    self.fc = nn.Linear(hidden_dim*2, output_dim)\n",
        "    self.outputs=[]\n",
        "  \n",
        "  def forward(self, x, data_raw, lookback): #x =x_train, data_raw=x_series, lookback=주기\n",
        "    outputs=[]\n",
        "    for i, input_t in enumerate(x.chunk(x.size(0), dim=0)):\n",
        "      # |x|=(batch_size, time_step, vec_size)\n",
        "      x,_=self.lstm(input_t)\n",
        "\n",
        "      #|x|=(batch_size, time_step, hidden_size*2)\n",
        "      y= self.fc(x[:,-1])\n",
        "\n",
        "      #|y|=(batch_size, value)\n",
        "      outputs.append(np.squeeze(y.detach().numpy(), axis=0)) #outputs : [[1], [2], ...] 형태\n",
        "      \n",
        "\n",
        "\n",
        "    #예측값을 입력값으로 넣을 빈 공간을 만들기\n",
        "    future=120\n",
        "    train_future=np.zeros((future, 19,1)) #train_future = (120,19,1)\n",
        "    data_raw = data_raw.to_numpy() # df convert to numpy array\n",
        "\n",
        "    #예측값을 입력값으로 넣어주기\n",
        "    for index in range(len(data_raw)-lookback+1,len(data_raw)+future-lookback+1): #range(1361, 1481)\n",
        "      if index<len(data_raw):\n",
        "        idx=(index-(len(data_raw)-lookback+1))\n",
        "        if idx==0:\n",
        "          train_future[idx]=data_raw[index:len(data_raw)]\n",
        "\n",
        "          train_ft=torch.from_numpy(train_future[idx]).type(torch.Tensor)\n",
        "          train_ft=train_ft.view([-1,lookback-1,1])\n",
        "\n",
        "          # |x|=(batch_size, time_step, vec_size)\n",
        "          train_ft, _=self.lstm(train_ft)\n",
        "\n",
        "          #|x|=(batch_size, time_step, hidden_size*2)\n",
        "          y= self.fc(train_ft[:,-1])\n",
        "\n",
        "          #|y|=(batch_size, value)\n",
        "          outputs.append(np.squeeze(y.detach().numpy(), axis=0))  #outputs : [[1], [2], ...] 형태\n",
        "          \n",
        "\n",
        "\n",
        "        #len(data_raw)=1380, 1362~1380 넣고 1381 예측으로 해야함\n",
        "        else:\n",
        "          train_future[idx]=np.concatenate((data_raw[index:len(data_raw)],np.array(outputs[-(idx):])),axis=0)\n",
        "\n",
        "\n",
        "          train_ft=torch.from_numpy(train_future[idx]).type(torch.Tensor)\n",
        "          train_ft=train_ft.view([-1,lookback-1,1])\n",
        "\n",
        "          # |x|=(batch_size, time_step, vec_size)\n",
        "          train_ft, _=self.lstm(train_ft)\n",
        "\n",
        "          #|x|=(batch_size, time_step, hidden_size*2)\n",
        "          y= self.fc(train_ft[:,-1])\n",
        "\n",
        "          #|y|=(batch_size, value)\n",
        "          outputs.append(np.squeeze(y.detach().numpy(), axis=0))  #outputs : [[1], [2], ...] 형태\n",
        "\n",
        "      else:\n",
        "        idx=(index-(len(data_raw)-lookback+1))\n",
        "        train_future[idx]=outputs[-(lookback-1):] #train_future[idx] : (19,1)\n",
        "\n",
        "        train_ft=torch.from_numpy(train_future[idx]).type(torch.Tensor)\n",
        "        train_ft=train_ft.view([-1,lookback-1,1])\n",
        "\n",
        "        # |x|=(batch_size, time_step, vec_size)\n",
        "        train_ft, _=self.lstm(train_ft)\n",
        "\n",
        "        #|x|=(batch_size, time_step, hidden_size*2)\n",
        "        y= self.fc(train_ft[:,-1])\n",
        "\n",
        "        #|y|=(batch_size, value)\n",
        "        outputs.append(np.squeeze(y.detach().numpy(), axis=0))  #outputs : [[1], [2], ...] 형태\n",
        "    \n",
        "    outputs = torch.as_tensor(outputs) #list형태를 torch 형태로 바꿔주기\n",
        "    #{outputs]=(batch_size, value)\n",
        "    self.outputs=outputs\n",
        "\n",
        "    return outputs "
      ],
      "execution_count": 29,
      "outputs": []
    },
    {
      "cell_type": "code",
      "metadata": {
        "id": "rKMu4sOB-u-i"
      },
      "source": [
        "model = LSTM(input_dim=input_dim, hidden_dim=hidden_dim, output_dim=output_dim, num_layers=num_layers)\n",
        "criterion = torch.nn.MSELoss()\n",
        "optimizer = torch.optim.Adam(model.parameters(), lr=0.01)"
      ],
      "execution_count": 49,
      "outputs": []
    },
    {
      "cell_type": "code",
      "metadata": {
        "colab": {
          "base_uri": "https://localhost:8080/",
          "height": 404
        },
        "id": "36mizQQj_IL0",
        "outputId": "14d3d0e3-97a6-44cf-bfdb-ceaa46fcbb65"
      },
      "source": [
        "import time\n",
        "\n",
        "start_time = time.time()\n",
        "lstm = []\n",
        "\n",
        "y_train_pred = model(x=x_train, data_raw=x_series, lookback=20) #계속해서 model(x_train), 하고 예측값 넣어주고 이 짓을 반복해야하나.?그러면 이후에 criteerion에서 업데이트할 때 안 걸림돌이 안 되나?\n",
        "\n",
        "loss = criterion(y_train_pred, y_train_lstm)\n",
        "print(\"MSE: \", loss.item())\n",
        "\n",
        "optimizer.zero_grad()\n",
        "loss.backward()\n",
        "optimizer.step()\n",
        "    \n",
        "training_time = time.time()-start_time\n",
        "print(\"Training time: {}\".format(training_time))"
      ],
      "execution_count": 51,
      "outputs": [
        {
          "output_type": "stream",
          "text": [
            "MSE:  0.8027034401893616\n"
          ],
          "name": "stdout"
        },
        {
          "output_type": "error",
          "ename": "RuntimeError",
          "evalue": "ignored",
          "traceback": [
            "\u001b[0;31m---------------------------------------------------------------------------\u001b[0m",
            "\u001b[0;31mRuntimeError\u001b[0m                              Traceback (most recent call last)",
            "\u001b[0;32m<ipython-input-51-30ebc8b87a3a>\u001b[0m in \u001b[0;36m<module>\u001b[0;34m()\u001b[0m\n\u001b[1;32m     10\u001b[0m \u001b[0;34m\u001b[0m\u001b[0m\n\u001b[1;32m     11\u001b[0m \u001b[0moptimizer\u001b[0m\u001b[0;34m.\u001b[0m\u001b[0mzero_grad\u001b[0m\u001b[0;34m(\u001b[0m\u001b[0;34m)\u001b[0m\u001b[0;34m\u001b[0m\u001b[0;34m\u001b[0m\u001b[0m\n\u001b[0;32m---> 12\u001b[0;31m \u001b[0mloss\u001b[0m\u001b[0;34m.\u001b[0m\u001b[0mbackward\u001b[0m\u001b[0;34m(\u001b[0m\u001b[0;34m)\u001b[0m\u001b[0;34m\u001b[0m\u001b[0;34m\u001b[0m\u001b[0m\n\u001b[0m\u001b[1;32m     13\u001b[0m \u001b[0moptimizer\u001b[0m\u001b[0;34m.\u001b[0m\u001b[0mstep\u001b[0m\u001b[0;34m(\u001b[0m\u001b[0;34m)\u001b[0m\u001b[0;34m\u001b[0m\u001b[0;34m\u001b[0m\u001b[0m\n\u001b[1;32m     14\u001b[0m \u001b[0;34m\u001b[0m\u001b[0m\n",
            "\u001b[0;32m/usr/local/lib/python3.7/dist-packages/torch/tensor.py\u001b[0m in \u001b[0;36mbackward\u001b[0;34m(self, gradient, retain_graph, create_graph, inputs)\u001b[0m\n\u001b[1;32m    243\u001b[0m                 \u001b[0mcreate_graph\u001b[0m\u001b[0;34m=\u001b[0m\u001b[0mcreate_graph\u001b[0m\u001b[0;34m,\u001b[0m\u001b[0;34m\u001b[0m\u001b[0;34m\u001b[0m\u001b[0m\n\u001b[1;32m    244\u001b[0m                 inputs=inputs)\n\u001b[0;32m--> 245\u001b[0;31m         \u001b[0mtorch\u001b[0m\u001b[0;34m.\u001b[0m\u001b[0mautograd\u001b[0m\u001b[0;34m.\u001b[0m\u001b[0mbackward\u001b[0m\u001b[0;34m(\u001b[0m\u001b[0mself\u001b[0m\u001b[0;34m,\u001b[0m \u001b[0mgradient\u001b[0m\u001b[0;34m,\u001b[0m \u001b[0mretain_graph\u001b[0m\u001b[0;34m,\u001b[0m \u001b[0mcreate_graph\u001b[0m\u001b[0;34m,\u001b[0m \u001b[0minputs\u001b[0m\u001b[0;34m=\u001b[0m\u001b[0minputs\u001b[0m\u001b[0;34m)\u001b[0m\u001b[0;34m\u001b[0m\u001b[0;34m\u001b[0m\u001b[0m\n\u001b[0m\u001b[1;32m    246\u001b[0m \u001b[0;34m\u001b[0m\u001b[0m\n\u001b[1;32m    247\u001b[0m     \u001b[0;32mdef\u001b[0m \u001b[0mregister_hook\u001b[0m\u001b[0;34m(\u001b[0m\u001b[0mself\u001b[0m\u001b[0;34m,\u001b[0m \u001b[0mhook\u001b[0m\u001b[0;34m)\u001b[0m\u001b[0;34m:\u001b[0m\u001b[0;34m\u001b[0m\u001b[0;34m\u001b[0m\u001b[0m\n",
            "\u001b[0;32m/usr/local/lib/python3.7/dist-packages/torch/autograd/__init__.py\u001b[0m in \u001b[0;36mbackward\u001b[0;34m(tensors, grad_tensors, retain_graph, create_graph, grad_variables, inputs)\u001b[0m\n\u001b[1;32m    145\u001b[0m     Variable._execution_engine.run_backward(\n\u001b[1;32m    146\u001b[0m         \u001b[0mtensors\u001b[0m\u001b[0;34m,\u001b[0m \u001b[0mgrad_tensors_\u001b[0m\u001b[0;34m,\u001b[0m \u001b[0mretain_graph\u001b[0m\u001b[0;34m,\u001b[0m \u001b[0mcreate_graph\u001b[0m\u001b[0;34m,\u001b[0m \u001b[0minputs\u001b[0m\u001b[0;34m,\u001b[0m\u001b[0;34m\u001b[0m\u001b[0;34m\u001b[0m\u001b[0m\n\u001b[0;32m--> 147\u001b[0;31m         allow_unreachable=True, accumulate_grad=True)  # allow_unreachable flag\n\u001b[0m\u001b[1;32m    148\u001b[0m \u001b[0;34m\u001b[0m\u001b[0m\n\u001b[1;32m    149\u001b[0m \u001b[0;34m\u001b[0m\u001b[0m\n",
            "\u001b[0;31mRuntimeError\u001b[0m: element 0 of tensors does not require grad and does not have a grad_fn"
          ]
        }
      ]
    },
    {
      "cell_type": "code",
      "metadata": {
        "colab": {
          "base_uri": "https://localhost:8080/",
          "height": 265
        },
        "id": "dAB6_Zmzu_lq",
        "outputId": "f5e92703-f7ee-46fe-b531-d4f64d30f0d1"
      },
      "source": [
        "from matplotlib import pyplot as plt\n",
        "\n",
        "x_values=range(1,1481)\n",
        "y_values2=np.squeeze(y_train_lstm.tolist(), axis=1)\n",
        "plt.plot(x_values, y_values2)\n",
        "plt.show()"
      ],
      "execution_count": 47,
      "outputs": [
        {
          "output_type": "display_data",
          "data": {
            "image/png": "[encoded data removed]",
            "text/plain": [
              "<Figure size 432x288 with 1 Axes>"
            ]
          },
          "metadata": {
            "tags": [],
            "needs_background": "light"
          }
        }
      ]
    },
    {
      "cell_type": "code",
      "metadata": {
        "colab": {
          "base_uri": "https://localhost:8080/",
          "height": 265
        },
        "id": "V5UKZIabwKQt",
        "outputId": "25759766-4bd2-4ab1-b092-b53e292b4319"
      },
      "source": [
        "a=model.outputs\n",
        "x_values=range(1,1481)\n",
        "y_values=np.squeeze(a.tolist(), axis=1)\n",
        "y_values2=np.squeeze(y_train_lstm.tolist(), axis=1)\n",
        "\n",
        "plt.plot(x_values, y_values)\n",
        "plt.plot(x_values, y_values2)\n",
        "plt.show()"
      ],
      "execution_count": 48,
      "outputs": [
        {
          "output_type": "display_data",
          "data": {
            "image/png": "[encoded data removed]",
            "text/plain": [
              "<Figure size 432x288 with 1 Axes>"
            ]
          },
          "metadata": {
            "tags": [],
            "needs_background": "light"
          }
        }
      ]
    },
    {
      "cell_type": "code",
      "metadata": {
        "id": "LqWxDLgHxHQz"
      },
      "source": [
        ""
      ],
      "execution_count": null,
      "outputs": []
    }
  ]
}